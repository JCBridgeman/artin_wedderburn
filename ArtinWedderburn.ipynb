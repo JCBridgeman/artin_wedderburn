{
 "cells": [
  {
   "cell_type": "code",
   "execution_count": 1,
   "metadata": {},
   "outputs": [],
   "source": [
    "from ArtinWedderburn import *"
   ]
  },
  {
   "cell_type": "code",
   "execution_count": 2,
   "metadata": {},
   "outputs": [],
   "source": [
    "alg = symmetric_group_algebra(5)"
   ]
  },
  {
   "cell_type": "code",
   "execution_count": 3,
   "metadata": {},
   "outputs": [
    {
     "name": "stdout",
     "output_type": "stream",
     "text": [
      "computing center...\n",
      "SVD multiplication defect: 6e-13\n",
      "SVD unit defect: 0e+00\n",
      "center defect: 3e-12\n",
      "center commutative defect: 7e-14\n",
      "\n",
      "computing central idempotents...\n",
      "central idempotent defect: 3e-13\n",
      "\n",
      "computing blocks...\n",
      "\n",
      "computing block  0\n",
      "SVD multiplication defect: 6e-14\n",
      "SVD unit defect: 7e-15\n",
      "block defect: 4e-31\n",
      "\n",
      "computing block  1\n",
      "SVD multiplication defect: 6e-14\n",
      "SVD unit defect: 7e-15\n",
      "block defect: 4e-31\n",
      "\n",
      "computing block  2\n",
      "SVD multiplication defect: 6e-12\n",
      "SVD unit defect: 5e-15\n",
      "block defect: 4e-10\n",
      "\n",
      "computing block  3\n",
      "SVD multiplication defect: 3e-12\n",
      "SVD unit defect: 6e-15\n",
      "block defect: 1e-10\n",
      "\n",
      "computing block  4\n",
      "SVD multiplication defect: 3e-12\n",
      "SVD unit defect: 6e-15\n",
      "block defect: 1e-10\n",
      "\n",
      "computing block  5\n",
      "SVD multiplication defect: 6e-12\n",
      "SVD unit defect: 6e-15\n",
      "block defect: 4e-10\n",
      "\n",
      "computing block  6\n",
      "SVD multiplication defect: 1e-11\n",
      "SVD unit defect: 4e-15\n",
      "block defect: 1e-09\n",
      "\n",
      "computing irreps...\n",
      "\n",
      "computing irrep 0\n",
      "SVD defect: 0e+00\n",
      "irrep defect: 5e-11\n",
      "\n",
      "computing irrep 1\n",
      "SVD defect: 0e+00\n",
      "irrep defect: 5e-11\n",
      "\n",
      "computing irrep 2\n",
      "SVD defect: 8e-13\n",
      "irrep defect: 2e-10\n",
      "\n",
      "computing irrep 3\n",
      "SVD defect: 4e-13\n",
      "irrep defect: 1e-10\n",
      "\n",
      "computing irrep 4\n",
      "SVD defect: 4e-13\n",
      "irrep defect: 1e-10\n",
      "\n",
      "computing irrep 5\n",
      "SVD defect: 8e-13\n",
      "irrep defect: 2e-10\n",
      "\n",
      "computing irrep 6\n",
      "SVD defect: 2e-12\n",
      "irrep defect: 3e-10\n",
      "\n",
      "all done!\n",
      "total defect: 3e-09\n",
      "irrep tensors are stored in the attribute self.irrep\n",
      "7 irreducible representations with dimensions\n",
      "0 : 1\n",
      "1 : 1\n",
      "2 : 5\n",
      "3 : 4\n",
      "4 : 4\n",
      "5 : 5\n",
      "6 : 6\n"
     ]
    }
   ],
   "source": [
    "import time\n",
    "\n",
    "time_start = time.process_time()\n",
    "aw=ArtinWedderburn(alg,0.00001)\n",
    "time_elapsed = (time.process_time() - time_start)\n"
   ]
  },
  {
   "cell_type": "code",
   "execution_count": 4,
   "metadata": {},
   "outputs": [
    {
     "name": "stdout",
     "output_type": "stream",
     "text": [
      "39.1324402395\n"
     ]
    }
   ],
   "source": [
    "# run on a machine with 8 threads\n",
    "print(time_elapsed / 8)"
   ]
  },
  {
   "cell_type": "code",
   "execution_count": null,
   "metadata": {},
   "outputs": [],
   "source": []
  }
 ],
 "metadata": {
  "kernelspec": {
   "display_name": "Python 3",
   "language": "python",
   "name": "python3"
  },
  "language_info": {
   "codemirror_mode": {
    "name": "ipython",
    "version": 3
   },
   "file_extension": ".py",
   "mimetype": "text/x-python",
   "name": "python",
   "nbconvert_exporter": "python",
   "pygments_lexer": "ipython3",
   "version": "3.8.7"
  }
 },
 "nbformat": 4,
 "nbformat_minor": 4
}
